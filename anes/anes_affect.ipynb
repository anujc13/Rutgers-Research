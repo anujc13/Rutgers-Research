{
 "cells": [
  {
   "cell_type": "code",
   "execution_count": 22,
   "metadata": {},
   "outputs": [],
   "source": [
    "import pandas as pd\n",
    "import matplotlib.pyplot as plt\n",
    "import numpy as np\n",
    "import scipy.stats as st"
   ]
  },
  {
   "cell_type": "code",
   "execution_count": 23,
   "metadata": {},
   "outputs": [],
   "source": [
    "df = pd.read_csv('anes_affect.csv')"
   ]
  },
  {
   "cell_type": "code",
   "execution_count": 24,
   "metadata": {},
   "outputs": [
    {
     "name": "stdout",
     "output_type": "stream",
     "text": [
      "12\n",
      "1.0    7137\n",
      "3.0    6294\n",
      "Name: party_3_point, dtype: int64\n",
      "13431\n",
      "1984\n",
      "[1984 1986 1988 1990 1992 1996 2000 2004 2008 2012 2016 2020]\n"
     ]
    }
   ],
   "source": [
    "print(df['year'].nunique())\n",
    "print(df['party_3_point'].value_counts())\n",
    "print(len(df['party_3_point']))\n",
    "print(df['year'][0])\n",
    "print(df['year'].unique())"
   ]
  },
  {
   "cell_type": "code",
   "execution_count": 25,
   "metadata": {},
   "outputs": [
    {
     "name": "stdout",
     "output_type": "stream",
     "text": [
      "[-0.24166666666666667, -0.19047619047619047, -0.03773584905660377, -0.03225806451612903, 0.2044714777777779, -0.08429477896551729, -0.13839738816176475, 0.0721605339, 0.10606128576086958, 1.373752350558048, -0.07724215624999996, 0.24459176738039973]\n",
      "[-0.045112781954887216, 0.16, 0.2971014492753623, -0.078125, 0.1398216643283582, -0.07559108, -0.17694594625850346, 0.6487263285964913, -0.12443104686567161, 1.2605593223910245, 0.0602418184818482, 0.10380178565690837]\n"
     ]
    }
   ],
   "source": [
    "y_values_REP = []\n",
    "y_values_DEM = []\n",
    "\n",
    "df1984 = df.loc[df['year'] == 1984]\n",
    "df1986 = df.loc[df['year'] == 1986]\n",
    "df1988 = df.loc[df['year'] == 1988]\n",
    "df1990 = df.loc[df['year'] == 1990]\n",
    "df1992 = df.loc[df['year'] == 1992]\n",
    "df1996 = df.loc[df['year'] == 1996]\n",
    "df2000 = df.loc[df['year'] == 2000]\n",
    "df2004 = df.loc[df['year'] == 2004]\n",
    "df2008 = df.loc[df['year'] == 2008]\n",
    "df2012 = df.loc[df['year'] == 2012]\n",
    "df2016 = df.loc[df['year'] == 2016]\n",
    "df2020 = df.loc[df['year'] == 2020]\n",
    "lst = [df1984, df1986, df1988, df1990, df1992, df1996, df2000, df2004, df2008, df2012, df2016, df2020]\n",
    "lst2 = []\n",
    "total = 0\n",
    "for x in lst:\n",
    "    total += len(x)\n",
    "    lst2.append(total)\n",
    "\n",
    "\n",
    "def func(dfTemp, prev=0):\n",
    "    temp_dem = 0\n",
    "    temp_rep = 0\n",
    "    vc_dem = dfTemp.loc[dfTemp['party_3_point'] == 1]\n",
    "    vc_rep = dfTemp.loc[dfTemp['party_3_point'] == 3]\n",
    "    for x in range(len(dfTemp)):\n",
    "        if dfTemp['party_3_point'][x + prev] == 1:\n",
    "            temp_dem += dfTemp['affect'][x + prev] * dfTemp['weight_full'][x + prev]\n",
    "        else:\n",
    "            temp_rep += dfTemp['affect'][x + prev] * dfTemp['weight_full'][x + prev]\n",
    "    return temp_dem/len(vc_dem), temp_rep/len(vc_rep)\n",
    "\n",
    "y_values_DEM.append(func(df1984)[0])\n",
    "y_values_REP.append(func(df1984)[1])\n",
    "for x in range(1, len(lst)):\n",
    "    y_values_DEM.append(func(lst[x], lst2[x-1])[0])\n",
    "    y_values_REP.append(func(lst[x], lst2[x-1])[1])\n",
    "print(y_values_DEM)\n",
    "print(y_values_REP)"
   ]
  },
  {
   "cell_type": "code",
   "execution_count": 56,
   "metadata": {},
   "outputs": [
    {
     "data": {
      "text/plain": [
       "Text(1978, -0.45, 'b)')"
      ]
     },
     "execution_count": 56,
     "metadata": {},
     "output_type": "execute_result"
    },
    {
     "data": {
      "image/png": "[encoded data removed]",
      "text/plain": [
       "<Figure size 432x288 with 1 Axes>"
      ]
     },
     "metadata": {
      "needs_background": "light"
     },
     "output_type": "display_data"
    }
   ],
   "source": [
    "x = df['year'].unique()\n",
    "\n",
    "plt.plot(x, y_values_DEM, marker = '.', linestyle='None', color = 'b')\n",
    "plt.plot(x, y_values_REP, marker = '.', linestyle='None', color = 'r')\n",
    "\n",
    "mD, bD, _D, pD, eD = st.linregress(x, y_values_DEM)\n",
    "lci_D, uci_D = mD - 1.96 * eD,  mD + 1.96 * eD\n",
    "plt.plot(x, mD*np.array(x) + bD, color=\"blue\")\n",
    "\n",
    "mR, bR, _R, pR, eR = st.linregress(x, y_values_REP)\n",
    "lci_R, uci_R = mR - 1.96 * eR,  mR + 1.96 * eR\n",
    "plt.plot(x, mR*np.array(x) + bR, color=\"red\")\n",
    "\n",
    "y_values_BLACK = []\n",
    "for y in range(len(y_values_DEM)):\n",
    "    y_values_BLACK.append(np.absolute(y_values_REP[y]) + np.absolute(y_values_DEM[y]))\n",
    "\n",
    "mB, bB, _B, pB, eB = st.linregress(x, y_values_BLACK)\n",
    "lci_B, uci_B = mD - 1.96 * eD,  mD + 1.96 * eD\n",
    "plt.plot(x, mB*np.array(x) + bB, color=\"black\")\n",
    "plt.plot(x, y_values_BLACK, marker='.', linestyle='None', color = 'black')\n",
    "#plt.xlabel('Year')\n",
    "plt.ylabel('Affective Sentiment')\n",
    "plt.title(\"Affective Polarization Using ANES Open-Ended Questions\")\n",
    "plt.text(1985, 2.2, f\"Dem Slope: {mD:.2f}\\n({lci_D:.2f}, {uci_D:.2f})\", color = 'b')\n",
    "plt.text(1985, 1.85, f\"Rep Slope: {mR:.2f}\\n({lci_R:.2f}, {uci_R:.2f})\", color = 'r')\n",
    "plt.text(1985, 1.5, f\"Black Slope: {mB:.2f}\\n({lci_B:.2f}, {uci_B:.2f})\", color = 'black')\n",
    "plt.text(1978, -0.45, \"b)\", fontsize='large')"
   ]
  },
  {
   "cell_type": "code",
   "execution_count": null,
   "metadata": {},
   "outputs": [],
   "source": []
  },
  {
   "cell_type": "code",
   "execution_count": null,
   "metadata": {},
   "outputs": [],
   "source": [
    "raw_df = pd.read_csv(\"anes_timeseries_cdf_csv_20211118.csv\", low_memory=False)\n",
    "# Subset\n",
    "\n",
    "vars = {\n",
    "    \"VCF0004\": \"year\",\n",
    "    \"VCF0301\": \"party\",\n",
    "    \"VCF0803\": \"ideo\",\n",
    "    \"VCF0009z\": \"weightz\",\n",
    "    \"VCF0211\": \"thermo_liberals\",\n",
    "    \"VCF0212\": \"thermo_conservatives\",\n",
    "    \"VCF0218\": \"thermo_democratparty\",\n",
    "    \"VCF0224\": \"thermo_republicanparty\",\n",
    "    \"VCF0830\": \"abram_civil_aid_to_blacks\",\n",
    "    # \"VCF0803\": \"abram_ideo\", # Note: cannot use VCF0803 twice (for ideo and abram_ideo) here, so added in pre-processing block\n",
    "    \"VCF0843\": \"abram_foreign_defense_spending\",\n",
    "    \"VCF0809\": \"abram_econ_guarantee_jobs\",\n",
    "    \"VCF0806\": \"abram_econ_health_insurance\",\n",
    "    \"VCF0839\": \"abram_econ_gov_services\",\n",
    "    \"VCF0838\": \"abram_moral_abortion_allowed_law\",\n",
    "}\n",
    "df = raw_df.loc[:, vars.keys()]\n",
    "df.rename(columns=vars, inplace=True)\n",
    "\n",
    "# Preprocessing\n",
    "\n",
    "orig_ideo = df[\"ideo\"]\n",
    "\n",
    "df[\"party\"] = df[\"party\"].replace([\" \", \"0\"], np.nan).transform(lambda x: int(x) - 4 if not pd.isnull(x) else np.nan)\n",
    "df[\"ideo\"] = df[\"ideo\"].replace([\" \", \"0\", \"9\"], np.nan).transform(lambda x: int(x) - 4 if not pd.isnull(x) else np.nan)\n",
    "df[\"weightz\"] = pd.to_numeric(df[\"weightz\"].replace([\" \"], np.nan))\n",
    "df[\"thermo_liberals\"] = pd.to_numeric(df[\"thermo_liberals\"].replace([\" \", \"98\", \"99\"], np.nan))\n",
    "df[\"thermo_conservatives\"] = pd.to_numeric(df[\"thermo_conservatives\"].replace([\" \", \"98\", \"99\"], np.nan))\n",
    "df[\"thermo_democratparty\"] = pd.to_numeric(df[\"thermo_democratparty\"].replace([\" \", \"98\", \"99\"], np.nan))\n",
    "df[\"thermo_republicanparty\"] = pd.to_numeric(df[\"thermo_republicanparty\"].replace([\" \", \"98\", \"99\"], np.nan))\n",
    "\n",
    "df[\"abram_civil_aid_to_blacks\"] = pd.to_numeric(df[\"abram_civil_aid_to_blacks\"].replace([\" \", \"0\", \"9\", \"1\", \"2\", \"3\", \"4\", \"5\", \"6\", \"7\"], [np.nan, np.nan, 0, -1, -1, -1, 0, 1, 1, 1]))\n",
    "# Adding in copy of VCF0803 here\n",
    "df[\"abram_ideo\"] = pd.to_numeric(orig_ideo.replace([\" \", \"0\", \"9\", \"1\", \"2\", \"3\", \"4\", \"5\", \"6\", \"7\"], [np.nan, np.nan, 0, -1, -1, -1, 0, 1, 1, 1]))\n",
    "df[\"abram_foreign_defense_spending\"] = pd.to_numeric(df[\"abram_foreign_defense_spending\"].replace([\" \", \"0\", \"9\", \"1\", \"2\", \"3\", \"4\", \"5\", \"6\", \"7\"], [np.nan, np.nan, 0, -1, -1, -1, 0, 1, 1, 1]))\n",
    "df[\"abram_econ_guarantee_jobs\"] = pd.to_numeric(df[\"abram_econ_guarantee_jobs\"].replace([\" \", \"0\", \"9\", \"1\", \"2\", \"3\", \"4\", \"5\", \"6\", \"7\"], [np.nan, np.nan, 0, -1, -1, -1, 0, 1, 1, 1]))\n",
    "df[\"abram_econ_health_insurance\"] = pd.to_numeric(df[\"abram_econ_health_insurance\"].replace([\" \", \"0\", \"9\", \"1\", \"2\", \"3\", \"4\", \"5\", \"6\", \"7\"], [np.nan, np.nan, 0, -1, -1, -1, 0, 1, 1, 1]))\n",
    "df[\"abram_econ_gov_services\"] = pd.to_numeric(df[\"abram_econ_gov_services\"].replace([\" \", \"0\", \"9\", \"1\", \"2\", \"3\", \"4\", \"5\", \"6\", \"7\"], [np.nan, np.nan, 0, 1, 1, 1, 0, -1, -1, -1]))\n",
    "df[\"abram_moral_abortion_allowed_law\"] = pd.to_numeric(df[\"abram_moral_abortion_allowed_law\"].replace([\" \", \"0\", \"9\", \"1\", \"2\", \"3\", \"4\"], [np.nan, np.nan, 0, 1, 1, 0, -1]))\n",
    "\n",
    "# Affect - Ideological\n",
    "\n",
    "data = df.dropna(subset=[\"party\", \"ideo\", \"thermo_liberals\", \"thermo_conservatives\", \"weightz\"])\n",
    "data = data[(data[\"ideo\"] >= -3) & (data[\"ideo\"] <= 3) & (data[\"ideo\"] != 0)]\n",
    "dem = (data[\"ideo\"] < 0)\n",
    "rep = (data[\"ideo\"] > 0)\n",
    "\n",
    "data.insert(0, \"polar\", None)\n",
    "data.loc[dem, \"polar\"] = data.loc[dem, \"thermo_liberals\"] - data.loc[dem, \"thermo_conservatives\"]\n",
    "data.loc[rep, \"polar\"] = data.loc[rep, \"thermo_conservatives\"] - data.loc[rep, \"thermo_liberals\"]\n",
    "\n",
    "data_r = data[rep]\n",
    "data_d = data[dem]\n",
    "\n",
    "wm = lambda x: np.average(x[\"polar\"], weights=data.loc[x[\"polar\"].index, \"weightz\"])\n",
    "avg_data_r = data_r.groupby(\"year\").apply(wm)\n",
    "avg_data_d = data_d.groupby(\"year\").apply(wm)\n",
    "avg_data = pd.concat([avg_data_r, avg_data_d]).groupby(\"year\").apply(sum)\n",
    "\n",
    "\n",
    "# Affect - Party\n",
    "\n",
    "datap = df.dropna(subset=[\"party\", \"ideo\", \"thermo_democratparty\", \"thermo_republicanparty\", \"weightz\"])\n",
    "datap = datap[(datap[\"party\"] >= -3) & (datap[\"party\"] <= 3) & (datap[\"party\"] != 0)]\n",
    "dem = (datap[\"party\"] < 0)\n",
    "rep = (datap[\"party\"] > 0)\n",
    "\n",
    "datap.insert(0, \"polar\", None)\n",
    "dem_in_group = datap.loc[dem, \"thermo_democratparty\"]\n",
    "dem_out_group = datap.loc[dem, \"thermo_republicanparty\"]\n",
    "rep_in_group = datap.loc[rep, \"thermo_republicanparty\"]\n",
    "rep_out_group = datap.loc[rep, \"thermo_democratparty\"]\n",
    "datap.loc[dem, \"polar\"] = dem_in_group - dem_out_group\n",
    "datap.loc[rep, \"polar\"] = rep_in_group - rep_out_group\n",
    "\n",
    "datap_r = datap[rep]\n",
    "datap_d = datap[dem]\n",
    "\n",
    "wmp = lambda x: np.average(x[\"polar\"], weights=datap.loc[x[\"polar\"].index, \"weightz\"])\n",
    "wmp_dem_party = lambda x: np.average(x[\"thermo_democratparty\"], weights=datap.loc[x[\"thermo_democratparty\"].index, \"weightz\"])\n",
    "wmp_rep_party = lambda x: np.average(x[\"thermo_republicanparty\"], weights=datap.loc[x[\"thermo_republicanparty\"].index, \"weightz\"])\n",
    "avg_datap_r = datap_r.groupby(\"year\").apply(wmp)\n",
    "avg_datap_d = datap_d.groupby(\"year\").apply(wmp)\n",
    "\n",
    "avg_datap_dem_in_group = datap_d.groupby(\"year\").apply(wmp_dem_party).groupby(\"year\").apply(sum)\n",
    "avg_datap_dem_out_group = datap_d.groupby(\"year\").apply(wmp_rep_party).groupby(\"year\").apply(sum)\n",
    "avg_datap_rep_in_group = datap_r.groupby(\"year\").apply(wmp_rep_party).groupby(\"year\").apply(sum)\n",
    "avg_datap_rep_out_group = datap_r.groupby(\"year\").apply(wmp_dem_party).groupby(\"year\").apply(sum)\n",
    "\n",
    "avg_datap = pd.concat([avg_datap_r, avg_datap_d]).groupby(\"year\").apply(sum)\n",
    "\n",
    "data = pd.concat([datap_r, datap_d])\n",
    "number_of_responses_by_year = data.groupby(\"year\").size()\n",
    "errorbar = {}\n",
    "for d in data.values:\n",
    "    polar = d[0]\n",
    "    year = int(d[1])\n",
    "    weight = d[4]\n",
    "    if year not in errorbar:\n",
    "        errorbar[year] = 0\n",
    "    errorbar[year] += np.square(weight / number_of_responses_by_year[year]) * avg_datap[year]\n",
    "\n",
    "for year in errorbar:\n",
    "    errorbar[year] = np.sqrt(errorbar[year])\n",
    "\n",
    "\n"
   ]
  },
  {
   "cell_type": "code",
   "execution_count": 55,
   "metadata": {},
   "outputs": [
    {
     "data": {
      "image/png": "[encoded data removed]",
      "text/plain": [
       "<Figure size 432x288 with 1 Axes>"
      ]
     },
     "metadata": {
      "needs_background": "light"
     },
     "output_type": "display_data"
    }
   ],
   "source": [
    "\n",
    "#####\n",
    "x = np.array([int(a) for a in dict(avg_datap).keys()])\n",
    "y = list(dict(avg_datap).values())\n",
    "m, b = np.polyfit(x, y, 1)\n",
    "plt.plot(x, m*x + b, color=\"black\")\n",
    "mR, bR, _, p, e = st.linregress(x, y)\n",
    "lci, uci = m - 1.96 * e,  m + 1.96 * e\n",
    "plt.errorbar(x, y, yerr=list(errorbar.values()), fmt=\".\", color=\"black\")\n",
    "data = pd.concat([datap_r, datap_d])\n",
    "number_of_responses_by_year_d = datap_d.groupby(\"year\").size()\n",
    "number_of_responses_by_year_r = datap_r.groupby(\"year\").size()\n",
    "errorbar_d = {}\n",
    "errorbar_r = {}\n",
    "for d in datap_d.values:\n",
    "    year = int(d[1])\n",
    "    weight = d[4]\n",
    "    if year not in errorbar_d:\n",
    "        errorbar_d[year] = 0\n",
    "    errorbar_d[year] += np.square(weight / number_of_responses_by_year_d[year]) * avg_datap_d[year]\n",
    "\n",
    "for d in datap_r.values:\n",
    "    year = int(d[1])\n",
    "    weight = d[4]\n",
    "    if year not in errorbar_r:\n",
    "        errorbar_r[year] = 0\n",
    "    errorbar_r[year] += np.square(weight / number_of_responses_by_year_r[year]) * avg_datap_r[year]\n",
    "\n",
    "for year in errorbar_d:\n",
    "    errorbar_d[year] = np.sqrt(errorbar_d[year])\n",
    "for year in errorbar_r:\n",
    "    errorbar_r[year] = np.sqrt(errorbar_r[year])\n",
    "\n",
    "x_d = np.array([int(a) for a in dict(avg_datap_d).keys()])\n",
    "x_r = np.array([int(a) for a in dict(avg_datap_r).keys()])\n",
    "y_d = list(dict(avg_datap_d).values())\n",
    "y_r = list(dict(avg_datap_r).values())\n",
    "m_d, b_d = np.polyfit(x_d, y_d, 1)\n",
    "mR, bR, _, p, e = st.linregress(x, y)\n",
    "lci_d, uci_d = m_d - 1.96 * e,  m_d + 1.96 * e\n",
    "m_r, b_r = np.polyfit(x_r, y_r, 1)\n",
    "mR, bR, _, p, e = st.linregress(x, y)\n",
    "lci_r, uci_r = m_r - 1.96 * e,  m_r + 1.96 * e\n",
    "plt.plot(x_d, m_d*x_d + b_d, color=\"blue\")\n",
    "plt.plot(x_r, m_r*x_r + b_r, color=\"red\")\n",
    "plt.errorbar(x_d, y_d, yerr=list(errorbar_d.values()), fmt=\".\", color=\"blue\")\n",
    "plt.errorbar(x_r, y_r, yerr=list(errorbar_r.values()), fmt=\".\", color=\"red\")\n",
    "plt.title(\"Affective Polarization Using ANES Data\")\n",
    "plt.ylabel(\"Partisan Feeling Thermometer\")\n",
    "plt.text(1972, 95, f\"Dem Slope: {np.round(m_d, 2)}\\n({lci_D:.2f}, {uci_D:.2f})\", color = 'b')\n",
    "plt.text(1972, 83, f\"Rep Slope: {np.round(m_r, 2)}\\n({lci_R:.2f}, {uci_R:.2f})\", color = 'r')\n",
    "plt.text(1972, 71, f\"Polarization Slope: {np.round(m, 2)}\\n({lci:.2f}, {uci:.2f})\", color = 'black')\n",
    "plt.ylim(0, 110)\n",
    "plt.yticks(np.arange(0, 110, step=10))\n",
    "plt.xlim(1970, 2022)\n",
    "plt.text(1965, -10, \"a)\", fontsize='large')\n",
    "plt.show()"
   ]
  }
 ],
 "metadata": {
  "interpreter": {
   "hash": "aee8b7b246df8f9039afb4144a1f6fd8d2ca17a180786b69acc140d282b71a49"
  },
  "kernelspec": {
   "display_name": "Python 3.10.2 64-bit",
   "language": "python",
   "name": "python3"
  },
  "language_info": {
   "codemirror_mode": {
    "name": "ipython",
    "version": 3
   },
   "file_extension": ".py",
   "mimetype": "text/x-python",
   "name": "python",
   "nbconvert_exporter": "python",
   "pygments_lexer": "ipython3",
   "version": "3.10.2"
  },
  "orig_nbformat": 4
 },
 "nbformat": 4,
 "nbformat_minor": 2
}
